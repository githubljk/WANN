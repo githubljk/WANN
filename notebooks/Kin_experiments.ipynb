{
 "cells": [
  {
   "cell_type": "markdown",
   "metadata": {},
   "source": [
    "# WANN experiments on Kin familly dataset"
   ]
  },
  {
   "cell_type": "code",
   "execution_count": 1,
   "metadata": {},
   "outputs": [],
   "source": [
    "import copy\n",
    "import sys\n",
    "\n",
    "import numpy as np\n",
    "import pandas as pd\n",
    "from matplotlib import pyplot as plt\n",
    "from sklearn.metrics import mean_squared_error\n",
    "from sklearn.preprocessing import StandardScaler, MinMaxScaler\n",
    "from sklearn.model_selection import train_test_split\n",
    "from sklearn.decomposition import PCA\n",
    "import tensorflow as tf\n",
    "from tensorflow.keras import Model\n",
    "from tensorflow.keras.layers import Dense, Input, Dropout\n",
    "from tensorflow.keras.constraints import MinMaxNorm\n",
    "\n",
    "sys.path.append(\"..\\\\wann\")\n",
    "from utils import kin, BaggingModels, cross_val\n",
    "from kin_experiments import run_kin_experiments\n",
    "from methods import *\n",
    "\n",
    "from warnings import filterwarnings\n",
    "filterwarnings('ignore')\n",
    "tf.compat.v1.logging.set_verbosity(tf.compat.v1.logging.ERROR)"
   ]
  },
  {
   "cell_type": "markdown",
   "metadata": {},
   "source": [
    "## Load Dataset"
   ]
  },
  {
   "cell_type": "code",
   "execution_count": 11,
   "metadata": {},
   "outputs": [],
   "source": [
    "source = 'kin-8fh'\n",
    "target = 'kin-8fm'\n",
    "\n",
    "N = 10   # Number of labeled target data\n",
    "m = 200  # Number of labeled source data\n",
    "n = 200  # Number of unlabeled target data\n",
    "\n",
    "Xs, ys = kin(source)\n",
    "Xt, yt = kin(target)\n",
    "X = np.concatenate((Xs, Xt))\n",
    "y = np.concatenate((ys, yt))\n",
    "\n",
    "np.random.seed(0)\n",
    "src_index = np.random.choice(len(Xs), m, replace=False)\n",
    "tgt_index, tgt_test_index = train_test_split(range(len(Xs), len(Xs)+len(Xt)), train_size=n, test_size=2*n)\n",
    "tgt_train_index = np.random.choice(tgt_index, N, replace=False)\n",
    "train_index = np.concatenate((src_index, tgt_train_index))\n",
    "shape = X.shape[1]"
   ]
  },
  {
   "cell_type": "markdown",
   "metadata": {},
   "source": [
    "## Base Estimator"
   ]
  },
  {
   "cell_type": "code",
   "execution_count": 12,
   "metadata": {},
   "outputs": [],
   "source": [
    "def get_base_model(shape, activation=None, C=1, name=\"BaseModel\"):\n",
    "    inputs = Input(shape=(shape,))\n",
    "    modeled = Dense(100, activation='relu',\n",
    "                         kernel_constraint=MinMaxNorm(0, C),\n",
    "                         bias_constraint=MinMaxNorm(0, C))(inputs)\n",
    "    modeled = Dropout(0.5)(modeled)\n",
    "    modeled = Dense(10, activation='relu',\n",
    "                    kernel_constraint=MinMaxNorm(0, C),\n",
    "                    bias_constraint=MinMaxNorm(0, C))(modeled)\n",
    "    modeled = Dropout(0.2)(modeled)\n",
    "    modeled = Dense(1, activation=activation,\n",
    "                    kernel_constraint=MinMaxNorm(0, C),\n",
    "                    bias_constraint=MinMaxNorm(0, C))(modeled)\n",
    "    model = Model(inputs, modeled)\n",
    "    model.compile(optimizer=\"adam\", loss='mean_squared_error')\n",
    "    return model\n",
    "\n",
    "def get_encoder(shape, C=1, name=\"encoder\"):\n",
    "    inputs = Input(shape=(shape,))\n",
    "    modeled = Dense(100, activation='relu',\n",
    "                         kernel_constraint=MinMaxNorm(0, C),\n",
    "                         bias_constraint=MinMaxNorm(0, C))(inputs)\n",
    "    modeled = Dropout(0.5)(modeled)\n",
    "    modeled = Dense(10, activation='relu',\n",
    "                    kernel_constraint=MinMaxNorm(0, C),\n",
    "                    bias_constraint=MinMaxNorm(0, C))(modeled)\n",
    "    modeled = Dropout(0.2)(modeled)\n",
    "    model = Model(inputs, modeled)\n",
    "    model.compile(optimizer=\"adam\", loss='mean_squared_error')\n",
    "    return model\n",
    "\n",
    "def get_task(shape, C=1, activation=None, name=\"task\"):\n",
    "    inputs = Input(shape=(shape,))\n",
    "    modeled = Dense(1, activation=activation,\n",
    "                         kernel_constraint=MinMaxNorm(0, C),\n",
    "                         bias_constraint=MinMaxNorm(0, C))(inputs)\n",
    "    model = Model(inputs, modeled)\n",
    "    model.compile(optimizer=\"adam\", loss='mean_squared_error')\n",
    "    return model\n",
    "\n",
    "\n",
    "base_estimator = BaggingModels(func=get_base_model,\n",
    "                               n_models=1,\n",
    "                               n_jobs=None,\n",
    "                               shape=shape,\n",
    "                               C=1,\n",
    "                               random_state=0)\n",
    "fit_params = dict(epochs=300,\n",
    "                  batch_size=32,\n",
    "                  verbose=0)"
   ]
  },
  {
   "cell_type": "markdown",
   "metadata": {},
   "source": [
    "## Examples"
   ]
  },
  {
   "cell_type": "markdown",
   "metadata": {},
   "source": [
    "### No reweight"
   ]
  },
  {
   "cell_type": "code",
   "execution_count": 13,
   "metadata": {},
   "outputs": [
    {
     "name": "stdout",
     "output_type": "stream",
     "text": [
      "Target score: 0.0012\n"
     ]
    }
   ],
   "source": [
    "no_reweight = copy.deepcopy(base_estimator)\n",
    "no_reweight.fit(X[train_index], y[train_index], **fit_params)\n",
    "\n",
    "y_pred = no_reweight.predict(X)\n",
    "score= mean_squared_error(y[tgt_test_index], y_pred[tgt_test_index])\n",
    "print('Target score: %.4f'%score)"
   ]
  },
  {
   "cell_type": "markdown",
   "metadata": {},
   "source": [
    "### TrAdaBoostR2"
   ]
  },
  {
   "cell_type": "code",
   "execution_count": 14,
   "metadata": {},
   "outputs": [
    {
     "name": "stdout",
     "output_type": "stream",
     "text": [
      "cv error of estimator 0: 0.418 (0.4932622442)\n",
      "cv error of estimator 1: 0.423 (0.5041088054)\n",
      "cv error of estimator 2: 0.300 (0.3813360861)\n",
      "cv error of estimator 3: 0.255 (0.3301617978)\n",
      "cv error of estimator 4: 0.226 (0.2859019013)\n",
      "cv error of estimator 5: 0.212 (0.2588195000)\n",
      "cv error of estimator 6: 0.207 (0.2456814426)\n",
      "cv error of estimator 7: 0.214 (0.2610593406)\n",
      "cv error of estimator 8: 0.242 (0.3007672781)\n",
      "cv error of estimator 9: 0.379 (0.4842606329)\n",
      "Target score: 0.133\n"
     ]
    }
   ],
   "source": [
    "tradaboost = TwoStageTrAdaBoostR2(func=get_base_model,\n",
    "                                  n_jobs=-1,\n",
    "                                  verbose=1,\n",
    "                                  C=10,\n",
    "                                  random_state=0,\n",
    "                                  shape=X.shape[1])\n",
    "tradaboost.fit(X, y, [src_index, tgt_train_index], **fit_params)\n",
    "y_pred = tradaboost.predict(X)\n",
    "score= mean_squared_error(y[tgt_test_index], y_pred[tgt_test_index])\n",
    "print('Target score: %.3f'%score)"
   ]
  },
  {
   "cell_type": "markdown",
   "metadata": {},
   "source": [
    "### KMM"
   ]
  },
  {
   "cell_type": "code",
   "execution_count": 14,
   "metadata": {},
   "outputs": [
    {
     "name": "stdout",
     "output_type": "stream",
     "text": [
      "Target score: 0.0021\n"
     ]
    }
   ],
   "source": [
    "kmm = KMM(base_estimator, sigma=0.1)\n",
    "kmm.fit(X, y, index=[src_index, tgt_index, tgt_train_index], **fit_params)\n",
    "\n",
    "y_pred = kmm.predict(X)\n",
    "score= mean_squared_error(y[tgt_test_index], y_pred[tgt_test_index])\n",
    "print('Target score: %.4f'%score)"
   ]
  },
  {
   "cell_type": "markdown",
   "metadata": {},
   "source": [
    "### KLIEP"
   ]
  },
  {
   "cell_type": "code",
   "execution_count": 15,
   "metadata": {},
   "outputs": [
    {
     "name": "stdout",
     "output_type": "stream",
     "text": [
      "Target score: 0.0012\n"
     ]
    }
   ],
   "source": [
    "kliep = KLIEP(base_estimator)\n",
    "kliep.fit(X, y, index=[train_index, tgt_index], **fit_params)\n",
    "\n",
    "y_pred = kliep.predict(X)\n",
    "score= mean_squared_error(y[tgt_test_index], y_pred[tgt_test_index])\n",
    "print('Target score: %.4f'%score)"
   ]
  },
  {
   "cell_type": "markdown",
   "metadata": {},
   "source": [
    "### DANN"
   ]
  },
  {
   "cell_type": "code",
   "execution_count": 16,
   "metadata": {},
   "outputs": [
    {
     "name": "stdout",
     "output_type": "stream",
     "text": [
      "Target score: 0.0007\n"
     ]
    }
   ],
   "source": [
    "dann = BaggingModels(DANN, n_models=1, n_jobs=None, random_state=0,\n",
    "                     get_encoder=get_encoder, get_task=get_task, C=1, lambda_=0.1)\n",
    "\n",
    "dann.fit(X, y, index=[src_index, tgt_index, tgt_train_index], **fit_params)\n",
    "\n",
    "y_pred = dann.predict(X)\n",
    "score = mean_squared_error(y[tgt_test_index], y_pred[tgt_test_index])\n",
    "print('Target score: %.4f'%score)"
   ]
  },
  {
   "cell_type": "markdown",
   "metadata": {},
   "source": [
    "### WANN"
   ]
  },
  {
   "cell_type": "code",
   "execution_count": 9,
   "metadata": {},
   "outputs": [
    {
     "name": "stdout",
     "output_type": "stream",
     "text": [
      "Target score: 0.0006\n"
     ]
    }
   ],
   "source": [
    "wann = BaggingModels(WANN, n_models=1, n_jobs=None, random_state=0,\n",
    "                     get_base_model=get_base_model, C=1, C_w=1)\n",
    "wann.fit(X, y, index=[src_index, tgt_train_index], **fit_params)\n",
    "\n",
    "y_pred = wann.predict(X)\n",
    "score = mean_squared_error(y[tgt_test_index], y_pred[tgt_test_index])\n",
    "print('Target score: %.4f'%score)"
   ]
  },
  {
   "cell_type": "markdown",
   "metadata": {},
   "source": [
    "#### Cross Validation Cw Selection"
   ]
  },
  {
   "cell_type": "code",
   "execution_count": 17,
   "metadata": {},
   "outputs": [
    {
     "name": "stdout",
     "output_type": "stream",
     "text": [
      "Cross Validation: param = 0.010 | score = 0.0042\n",
      "Cross Validation: param = 0.020 | score = 0.0037\n",
      "Cross Validation: param = 0.050 | score = 0.0030\n",
      "Cross Validation: param = 0.100 | score = 0.0024\n",
      "Cross Validation: param = 0.200 | score = 0.0020\n",
      "Cross Validation: param = 0.500 | score = 0.0012\n",
      "Cross Validation: param = 1.000 | score = 0.0010\n",
      "Best: param = 1.000 | score = 0.0010\n"
     ]
    }
   ],
   "source": [
    "cross_val(\"WANN\", X, y, src_index, None, tgt_train_index,\n",
    "          params=[0.01, 0.02, 0.05, 0.1, 0.2, 0.5, 1],\n",
    "          fit_params=fit_params, cv=5,\n",
    "          get_base_model=get_base_model, C=1);"
   ]
  },
  {
   "cell_type": "markdown",
   "metadata": {},
   "source": [
    "## Run Experiments"
   ]
  },
  {
   "cell_type": "code",
   "execution_count": 29,
   "metadata": {},
   "outputs": [
    {
     "name": "stdout",
     "output_type": "stream",
     "text": [
      " \n",
      "Experiment for method: WANN\n",
      " \n",
      "############# kin-8fh #############\n",
      "--------- kin-8fm ----------\n",
      "Target_score: 0.0008\n",
      "--------- kin-8nh ----------\n",
      "Target_score: 0.0563\n",
      "--------- kin-8nm ----------\n",
      "Target_score: 0.0615\n",
      "############# kin-8fm #############\n",
      "--------- kin-8fh ----------\n",
      "Target_score: 0.0022\n",
      "--------- kin-8nh ----------\n",
      "Target_score: 0.0529\n",
      "--------- kin-8nm ----------\n",
      "Target_score: 0.0565\n",
      "############# kin-8nh #############\n",
      "--------- kin-8fh ----------\n",
      "Target_score: 0.0043\n",
      "--------- kin-8fm ----------\n",
      "Target_score: 0.0022\n",
      "--------- kin-8nm ----------\n",
      "Target_score: 0.0406\n",
      "############# kin-8nm #############\n",
      "--------- kin-8fh ----------\n",
      "Target_score: 0.0037\n",
      "--------- kin-8fm ----------\n",
      "Target_score: 0.0012\n",
      "--------- kin-8nh ----------\n",
      "Target_score: 0.0374\n"
     ]
    }
   ],
   "source": [
    "df = run_kin_experiments(method=\"WANN\",\n",
    "                         get_base_model=get_base_model,\n",
    "                         get_encoder=get_encoder,\n",
    "                         get_task=get_task,\n",
    "                         C=1,\n",
    "                         C_w=1,\n",
    "                         lambda_=0.1,\n",
    "                         sigma=0.1,\n",
    "                         epochs=300,\n",
    "                         batch_size=32,\n",
    "                         n_models=1,\n",
    "                         n_jobs=None,\n",
    "                         n_source=200,\n",
    "                         n_target_unlabeled=200,\n",
    "                         n_target_labeled=10,\n",
    "                         n_target_test=400,\n",
    "                         random_state=0,\n",
    "                         save=False)"
   ]
  },
  {
   "cell_type": "markdown",
   "metadata": {},
   "source": [
    "### Launch all experiments (all methods, 10 times)\n",
    "Uncomment cell below to launch experiments"
   ]
  },
  {
   "cell_type": "code",
   "execution_count": 12,
   "metadata": {},
   "outputs": [],
   "source": [
    "# %run -i ..\\wann\\kin_experiments"
   ]
  }
 ],
 "metadata": {
  "kernelspec": {
   "display_name": "wann",
   "language": "python",
   "name": "wann"
  },
  "language_info": {
   "codemirror_mode": {
    "name": "ipython",
    "version": 3
   },
   "file_extension": ".py",
   "mimetype": "text/x-python",
   "name": "python",
   "nbconvert_exporter": "python",
   "pygments_lexer": "ipython3",
   "version": "3.7.6"
  }
 },
 "nbformat": 4,
 "nbformat_minor": 4
}
